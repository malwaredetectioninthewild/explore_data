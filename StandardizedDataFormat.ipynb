{
 "cells": [
  {
   "cell_type": "code",
   "execution_count": 1,
   "metadata": {},
   "outputs": [],
   "source": [
    "import json\n",
    "import os"
   ]
  },
  {
   "cell_type": "markdown",
   "metadata": {},
   "source": [
    "Our sandbox dataset contains traces from  **Tencent HABO** (Habo) and **VirusTotal Cuckoofork** (Cuckoo) sandboxes. In our leaderboard and paper, HABO is referred to as *Sandbox-1* and Cuckoo is referred to as *Sandbox-2*.\n",
    "\n",
    "The `sandbox_dataset` directory contains two subdirectories `Train` (included both in the **Train Data** and **TrainAndTest Data**) and `Test` (included only in the **TrainAndTest Data**)\n",
    "\n",
    "We split the samples in our dataset based on their `first_seen` timestamps and the traces under the `Train` subdirectory are from the samples seen before our cut-off date."
   ]
  },
  {
   "cell_type": "markdown",
   "metadata": {},
   "source": [
    "Lets first read the trace associated with the sample *00a2c6bab1e53f679cdd4fdc772cd291928c109b9b747652639a1700d844f719* from our **Train Data** (`MalwareITW_TrainData`). This repository includes a small set of traces to demonstrate the trace format and the structure of our sandbox dataset."
   ]
  },
  {
   "cell_type": "code",
   "execution_count": 2,
   "metadata": {},
   "outputs": [],
   "source": [
    "dataset_path = os.path.join('MalwareITW_TrainData_Sample', 'sandbox_dataset', 'Train', 'HABO')\n",
    "sample_hash = '93d2014facc5b1f68b04213605e517e28070f6c3e999c73c4e1b52e45a3739ff'\n",
    "with open(os.path.join(dataset_path, f'{sample_hash}.json'), 'r') as fp:\n",
    "    trace = json.load(fp)"
   ]
  },
  {
   "cell_type": "markdown",
   "metadata": {},
   "source": [
    "Each trace file is saved as a JSON dictionary that contains the following keys:"
   ]
  },
  {
   "cell_type": "code",
   "execution_count": 3,
   "metadata": {},
   "outputs": [
    {
     "name": "stdout",
     "output_type": "stream",
     "text": [
      "dict_keys(['regs_created', 'regs_deleted', 'mutexes_created', 'processes_created', 'files_created', 'processes_injected'])\n"
     ]
    }
   ],
   "source": [
    "print(trace.keys())"
   ]
  },
  {
   "cell_type": "markdown",
   "metadata": {},
   "source": [
    "**'regs_created'** and **'regs_deleted'** correspond to the Windows registry key creation and deletion actions.\n",
    "\n",
    "**'mutexes_created'**, **'procecess_created'** and **'files_created'** keys contain the mutexes, files and processes created by the sample.\n",
    "\n",
    "**'processes_injected'** contains the injected processes, this action type has vendor specific definitions so the way it is defined might not be uniform across different sandboxes."
   ]
  },
  {
   "cell_type": "markdown",
   "metadata": {},
   "source": [
    "Each of these keys map to a list of strings, each containing an individual action performed by the sample. For example, let's see the registry keys created by this sample:"
   ]
  },
  {
   "cell_type": "code",
   "execution_count": 4,
   "metadata": {},
   "outputs": [
    {
     "name": "stdout",
     "output_type": "stream",
     "text": [
      "['registry\\\\machine\\\\software\\\\classes\\\\clsid\\\\<winguid>\\\\uets', 'registry\\\\machine\\\\software\\\\microsoft\\\\windows\\\\currentversion\\\\run\\\\trickler', 'registry\\\\machine\\\\software\\\\qwertyuio\\\\trickler\\\\apppath', 'registry\\\\machine\\\\software\\\\qwertyuio\\\\trickler\\\\oldtrickler']\n"
     ]
    }
   ],
   "source": [
    "print(trace['regs_created'])"
   ]
  },
  {
   "cell_type": "markdown",
   "metadata": {},
   "source": [
    "If the sample has not performed any of these action types, the corresponding key will have an empty list as value. For example:"
   ]
  },
  {
   "cell_type": "code",
   "execution_count": 5,
   "metadata": {},
   "outputs": [
    {
     "name": "stdout",
     "output_type": "stream",
     "text": [
      "[]\n"
     ]
    }
   ],
   "source": [
    "print(trace['processes_injected'])"
   ]
  },
  {
   "cell_type": "markdown",
   "metadata": {},
   "source": [
    "This summarizes the standardized trace format that your feature processing routine should accept as input. "
   ]
  }
 ],
 "metadata": {
  "kernelspec": {
   "display_name": "llms",
   "language": "python",
   "name": "python3"
  },
  "language_info": {
   "codemirror_mode": {
    "name": "ipython",
    "version": 3
   },
   "file_extension": ".py",
   "mimetype": "text/x-python",
   "name": "python",
   "nbconvert_exporter": "python",
   "pygments_lexer": "ipython3",
   "version": "3.12.3"
  }
 },
 "nbformat": 4,
 "nbformat_minor": 2
}
