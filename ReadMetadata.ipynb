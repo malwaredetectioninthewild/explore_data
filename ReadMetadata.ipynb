{
 "cells": [
  {
   "cell_type": "code",
   "execution_count": 2,
   "metadata": {},
   "outputs": [],
   "source": [
    "import os\n",
    "import pickle"
   ]
  },
  {
   "cell_type": "markdown",
   "metadata": {},
   "source": [
    "**hash_metadata** file includes the metadata for each hash (sample) collected for our datasets. Let's load it from the pickle file."
   ]
  },
  {
   "cell_type": "code",
   "execution_count": 3,
   "metadata": {},
   "outputs": [],
   "source": [
    "with open(os.path.join('metadata', 'hash_metadata.pkl'), 'rb') as fp:\n",
    "    hash_metadata = pickle.load(fp)"
   ]
  },
  {
   "cell_type": "markdown",
   "metadata": {},
   "source": [
    "Let's see the metadata for the sample with hash: *8292d65c4e38d3ba09cd6672b8646489728152a4f9c90152a03557661455665b*"
   ]
  },
  {
   "cell_type": "code",
   "execution_count": 4,
   "metadata": {},
   "outputs": [
    {
     "data": {
      "text/plain": [
       "{'first_seen': 1519738688,\n",
       " 'publisher': 'NO SIGNATURE',\n",
       " 'vhash': '015076657d1d7d7d7557z11z93z1hz8fz',\n",
       " 'tlsh': 'none',\n",
       " 'ssdeep': '3072:VD2fW6PW+2pTdPRRKYs87NBLJANI1vHJPRySANOQy/:Vd6PW+iT5RRBttHJKNO7',\n",
       " 'dataset_name': ['ep', 'ember'],\n",
       " 'new': {'fam': 'emotet',\n",
       "  'label': 1,\n",
       "  'scan_date': 1598111382,\n",
       "  'num_detections': 58,\n",
       "  'label_source': 'latest'},\n",
       " 'old': {'label': 1,\n",
       "  'scan_date': 1519738688,\n",
       "  'num_detections': -1,\n",
       "  'label_source': 'ember',\n",
       "  'fam': 'emotet'},\n",
       " 'file_names': ['myfile.exe',\n",
       "  '6IAK4ESCR.EXE',\n",
       "  '8292d65c4e38d3ba09cd6672b8646489728152a4f9c90152a03557661455665b-75482.bin',\n",
       "  '1407.exe',\n",
       "  '09256.exe']}"
      ]
     },
     "execution_count": 4,
     "metadata": {},
     "output_type": "execute_result"
    }
   ],
   "source": [
    "hash_metadata['8292d65c4e38d3ba09cd6672b8646489728152a4f9c90152a03557661455665b']"
   ]
  },
  {
   "cell_type": "markdown",
   "metadata": {},
   "source": [
    "* **'first_seen'**: This is the epoch timestamp that corresponds to the first seen date of the sample on VirusTotal\n",
    "* **'publisher'**: This is the publisher information for the sample we extract from the VT report. \n",
    "* **'vhash'**: This is the vhash hash of the binary file, included in its VT report.\n",
    " * **'tlsh'**: This is the tlsh hash of the binary file, included in its VT report.\n",
    " * **'ssdeep'**: This is the ssdeep hash of the binary file, included in its VT report.\n",
    "* **'dataset_name'**: This is the list of dataset where this sample was seen, since we merge multiple datasets (SOREL, EMBER and VirusTotal), the same sample can be seen in multiple datasets. The dataset name *'ep'* corresponds to the samples seen in our endpoint dataset.\n",
    "* **'file_name'**: This is the list of file names this sample had in its submissions to VT\n",
    "\n",
    "There are also two sets of labels in our metadata from two different timestamps.\n",
    "\n",
    "* **'old'** contains the label information from an older VirusTotal report (if avaiable), and **'new'**  contains information from a newer report.\n",
    "\n",
    "Each label information contains:\n",
    "\n",
    "* **'family'**: This is the malware family tag of the sample (it will be simply 'BENIGN' it the sample is benign)\n",
    "* **'label'**: This is the ground truth label we assigned to this sample (if number of detections is over 5, the sample is labeled as malware).\n",
    "* **'scan_date'**: Timestamp of the detection report we use to label the sample.\n",
    "* **'num_detection'**: This is the number of AV engines on VirusTotal that detected this sample as malware, if it is -1, our labeling source was not VirusTotal.\n",
    "* **'label_source'**: This indicates where our **'old'** label came from. For example, *latest_copied* means that we didn't have an older detection report for this sample."
   ]
  },
  {
   "cell_type": "markdown",
   "metadata": {},
   "source": [
    "Now let's find samples in our endpoint dataset."
   ]
  },
  {
   "cell_type": "code",
   "execution_count": 5,
   "metadata": {},
   "outputs": [
    {
     "name": "stdout",
     "output_type": "stream",
     "text": [
      "19213\n"
     ]
    }
   ],
   "source": [
    "endpoint_hashes = [h for h, v in hash_metadata.items() if 'ep' in v['dataset_name']]\n",
    "print(len(endpoint_hashes))"
   ]
  },
  {
   "cell_type": "markdown",
   "metadata": {},
   "source": [
    "If you would like to collect the binary labels and families for all our endpoint hashes, you can do as follows:"
   ]
  },
  {
   "cell_type": "code",
   "execution_count": 6,
   "metadata": {},
   "outputs": [],
   "source": [
    "new_labels = []\n",
    "old_labels = []\n",
    "new_families = []\n",
    "old_families = []\n",
    "families = []\n",
    "publishers = []\n",
    "\n",
    "for h in endpoint_hashes:\n",
    "    metadata = hash_metadata[h]\n",
    "    new_labels.append(metadata['new']['label'])\n",
    "    old_labels.append(metadata['old']['label'])\n",
    "    new_families.append(metadata['new']['fam'])\n",
    "    old_families.append(metadata['old']['fam'])\n",
    "    publishers.append(metadata['publisher'])"
   ]
  },
  {
   "cell_type": "markdown",
   "metadata": {},
   "source": [
    "You can obtain malware family priors and benign publisher priors in the endpoint samples as follows (Label=1 is malware and Label=2 indicates PUP, assigned based on AVClass)"
   ]
  },
  {
   "cell_type": "code",
   "execution_count": 7,
   "metadata": {},
   "outputs": [
    {
     "name": "stdout",
     "output_type": "stream",
     "text": [
      "Label Counts in our Endpoint Samples Based on Old Labels:\n",
      "Counter({0: 16541, 2: 2159, 1: 513})\n",
      "Label Counts in our Endpoint Samples Based on New Labels:\n",
      "Counter({0: 16520, 2: 2165, 1: 528})\n",
      "Most common malware families in our Endpoint Samples Based on Old Labels:\n",
      "[('GENERIC_MAL', 201), ('wannacry', 39), ('loadmoney', 38), ('emotet', 27), ('chindo', 9), ('vools', 9), ('cnopa', 8), ('high', 7), ('installcore', 6), ('nymeria', 5)]\n",
      "Most common malware families in our Endpoint Samples Based on New Labels:\n",
      "[('GENERIC_MAL', 215), ('loadmoney', 40), ('wannacry', 39), ('emotet', 27), ('chindo', 11), ('vools', 9), ('cnopa', 8), ('gandcrab', 7), ('installcore', 6), ('agentb', 5)]\n",
      "Most common publishers in our Endpoint Samples:\n",
      "[('NO SIGNATURE', 6634), ('Tencent Technology(Shenzhen) Company Limited', 390), ('Qihoo 360 Software (Beijing) Company Limited', 333), ('Sogou.com', 309), ('IObit Information Technology', 164), ('LANDesk Software, Inc.', 161), ('Beijing Kingsoft Security software Co.,Ltd', 142), ('SAP SE', 136), ('Intel(R) pGFX', 110), ('Shanghai Oriental Webcasting Co. Ltd.', 107)]\n"
     ]
    }
   ],
   "source": [
    "from collections import Counter\n",
    "import numpy as np\n",
    "\n",
    "print('Label Counts in our Endpoint Samples Based on Old Labels:')\n",
    "print(Counter(old_labels))\n",
    "\n",
    "print('Label Counts in our Endpoint Samples Based on New Labels:')\n",
    "print(Counter(new_labels))\n",
    "\n",
    "print('Most common malware families in our Endpoint Samples Based on Old Labels:')\n",
    "print(Counter(np.asarray(old_families)[np.where(np.asarray(old_labels) == 1)]).most_common(10))\n",
    "\n",
    "print('Most common malware families in our Endpoint Samples Based on New Labels:')\n",
    "print(Counter(np.asarray(new_families)[np.where(np.asarray(new_labels) == 1)]).most_common(10))\n",
    "\n",
    "print('Most common publishers in our Endpoint Samples:')\n",
    "print(Counter(publishers).most_common(10))"
   ]
  }
 ],
 "metadata": {
  "kernelspec": {
   "display_name": "pytorch",
   "language": "python",
   "name": "python3"
  },
  "language_info": {
   "codemirror_mode": {
    "name": "ipython",
    "version": 3
   },
   "file_extension": ".py",
   "mimetype": "text/x-python",
   "name": "python",
   "nbconvert_exporter": "python",
   "pygments_lexer": "ipython3",
   "version": "3.12.1"
  }
 },
 "nbformat": 4,
 "nbformat_minor": 2
}
